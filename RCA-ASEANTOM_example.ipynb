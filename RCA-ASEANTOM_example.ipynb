{
 "cells": [
  {
   "cell_type": "code",
   "execution_count": null,
   "id": "2db1441f",
   "metadata": {},
   "outputs": [],
   "source": [
    "import pandas as pd\n",
    "import numpy as np\n",
    "import matplotlib.pyplot as plt\n",
    "from matplotlib.ticker import ScalarFormatter\n"
   ]
  },
  {
   "cell_type": "markdown",
   "id": "7964e738",
   "metadata": {},
   "source": [
    "## 1. Read survey data file(.csv file) and save python data file(.npy) "
   ]
  },
  {
   "cell_type": "code",
   "execution_count": null,
   "id": "794e18e2",
   "metadata": {},
   "outputs": [],
   "source": [
    "from pandas import read_csv\n",
    "Airborne_data = read_csv('./data/airborne_30m.csv')"
   ]
  },
  {
   "cell_type": "code",
   "execution_count": null,
   "id": "249578be",
   "metadata": {
    "scrolled": false
   },
   "outputs": [],
   "source": [
    "Airborne_data"
   ]
  },
  {
   "cell_type": "code",
   "execution_count": null,
   "id": "441ca828",
   "metadata": {},
   "outputs": [],
   "source": [
    "# extract values\n",
    "Airborne_data = Airborne_data.values"
   ]
  },
  {
   "cell_type": "code",
   "execution_count": null,
   "id": "517fa17d",
   "metadata": {},
   "outputs": [],
   "source": [
    "np.set_printoptions(linewidth=150)\n",
    "Airborne_data"
   ]
  },
  {
   "cell_type": "code",
   "execution_count": null,
   "id": "2c50782e",
   "metadata": {},
   "outputs": [],
   "source": [
    "# Save the extracted values as a Python data file\n",
    "np.save(\"./data/Airborne_data.npy\", Airborne_data)"
   ]
  },
  {
   "cell_type": "markdown",
   "id": "59edad9c",
   "metadata": {},
   "source": [
    "## 2. Load python data file(.npy file) & Assigning variables"
   ]
  },
  {
   "cell_type": "code",
   "execution_count": null,
   "id": "050bbe8f",
   "metadata": {},
   "outputs": [],
   "source": [
    "Airborne_data = np.load(\"./data/Airborne_data.npy\", allow_pickle=True)\n",
    "Walk_data = np.load(\"./data/Walk_data.npy\", allow_pickle=True)"
   ]
  },
  {
   "cell_type": "code",
   "execution_count": null,
   "id": "6d43b57b",
   "metadata": {},
   "outputs": [],
   "source": [
    "np.set_printoptions(linewidth=150)\n",
    "Airborne_data"
   ]
  },
  {
   "cell_type": "code",
   "execution_count": null,
   "id": "9e7e6c8f",
   "metadata": {},
   "outputs": [],
   "source": [
    "Airborne_data.shape"
   ]
  },
  {
   "cell_type": "code",
   "execution_count": null,
   "id": "803333ba",
   "metadata": {},
   "outputs": [],
   "source": [
    "Airborne_dose = Airborne_data[:, 1]\n",
    "Latitude = Airborne_data[:, 5]\n",
    "Longitude = Airborne_data[:, 6]"
   ]
  },
  {
   "cell_type": "code",
   "execution_count": null,
   "id": "79e35399",
   "metadata": {},
   "outputs": [],
   "source": [
    "print(Airborne_dose.shape)\n",
    "print(Latitude.shape)\n",
    "print(Longitude.shape)"
   ]
  },
  {
   "cell_type": "markdown",
   "id": "5cff824a",
   "metadata": {},
   "source": [
    "## 3. Scatter Plot"
   ]
  },
  {
   "cell_type": "code",
   "execution_count": null,
   "id": "11ef3b2a",
   "metadata": {},
   "outputs": [],
   "source": [
    "plt.scatter(Longitude, Latitude, c=Airborne_dose, cmap='coolwarm', s=100, alpha=0.7)\n",
    "# cmap : colormap style (Ex. coolwarm, viridis, bwr, rainbow)\n",
    "# s : size \n",
    "# alpha : transparency\n",
    "\n",
    "# title and lable\n",
    "plt.title('Dose Map')\n",
    "plt.xlabel('Latitude')\n",
    "plt.ylabel('Longitude')\n",
    "plt.xticks(rotation=45)  # 45 degree rotation\n",
    "\n",
    "# colorbor \n",
    "colorbar = plt.colorbar()\n",
    "colorbar.set_label('Dose rate[uSv/hr]')\n",
    "# plt.clim(0, 5) # range min~max \n",
    "\n",
    "# axis format \n",
    "plt.gca().xaxis.set_major_formatter(ScalarFormatter(useMathText=False, useOffset=False))\n",
    "plt.gca().yaxis.set_major_formatter(ScalarFormatter(useMathText=False, useOffset=False))\n",
    "\n",
    "# Show plot\n",
    "plt.show()"
   ]
  },
  {
   "cell_type": "markdown",
   "id": "bb431ec5",
   "metadata": {},
   "source": [
    "### data filtering"
   ]
  },
  {
   "cell_type": "code",
   "execution_count": null,
   "id": "edcfcfc1",
   "metadata": {},
   "outputs": [],
   "source": [
    "data_end=720\n",
    "Airborne_dose = Airborne_data[:data_end, 1]\n",
    "Latitude = Airborne_data[:data_end, 5]\n",
    "Longitude = Airborne_data[:data_end, 6]"
   ]
  },
  {
   "cell_type": "code",
   "execution_count": null,
   "id": "80b34311",
   "metadata": {
    "scrolled": false
   },
   "outputs": [],
   "source": [
    "plt.scatter(Longitude, Latitude, c=Airborne_dose, cmap='coolwarm', s=100, alpha=0.7)\n",
    "# cmap : colormap style (Ex. coolwarm, viridis, bwr, rainbow)\n",
    "# s : size \n",
    "# alpha : transparency\n",
    "\n",
    "# title and lable\n",
    "plt.title('Dose Map')\n",
    "plt.xlabel('Latitude')\n",
    "plt.ylabel('Longitude')\n",
    "plt.xticks(rotation=45)  # 45 degree rotation\n",
    "\n",
    "# colorbor \n",
    "colorbar = plt.colorbar()\n",
    "colorbar.set_label('Dose rate[uSv/hr]')\n",
    "# plt.clim(0, 5) # range min~max \n",
    "\n",
    "# axis format \n",
    "plt.gca().xaxis.set_major_formatter(ScalarFormatter(useMathText=False, useOffset=False))\n",
    "plt.gca().yaxis.set_major_formatter(ScalarFormatter(useMathText=False, useOffset=False))\n",
    "\n",
    "# Show plot\n",
    "plt.show()"
   ]
  },
  {
   "cell_type": "code",
   "execution_count": null,
   "id": "20dd9238",
   "metadata": {},
   "outputs": [],
   "source": []
  },
  {
   "cell_type": "code",
   "execution_count": null,
   "id": "14ea059c",
   "metadata": {},
   "outputs": [],
   "source": []
  }
 ],
 "metadata": {
  "kernelspec": {
   "display_name": "Python 3 (ipykernel)",
   "language": "python",
   "name": "python3"
  },
  "language_info": {
   "codemirror_mode": {
    "name": "ipython",
    "version": 3
   },
   "file_extension": ".py",
   "mimetype": "text/x-python",
   "name": "python",
   "nbconvert_exporter": "python",
   "pygments_lexer": "ipython3",
   "version": "3.11.7"
  }
 },
 "nbformat": 4,
 "nbformat_minor": 5
}
